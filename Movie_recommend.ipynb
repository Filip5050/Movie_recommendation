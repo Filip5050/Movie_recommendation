{
 "cells": [
  {
   "cell_type": "code",
   "execution_count": 1,
   "id": "70be0191",
   "metadata": {},
   "outputs": [
    {
     "name": "stderr",
     "output_type": "stream",
     "text": [
      "c:\\Code\\.venv\\Lib\\site-packages\\sklearn\\feature_extraction\\text.py:517: UserWarning: The parameter 'token_pattern' will not be used since 'tokenizer' is not None'\n",
      "  warnings.warn(\n"
     ]
    },
    {
     "data": {
      "text/plain": [
       "['Toy Story 2 (1999)',\n",
       " 'Incredibles, The (2004)',\n",
       " 'Toy Story 4 (2019)',\n",
       " 'Monsters, Inc. (2001)',\n",
       " 'Finding Nemo (2003)']"
      ]
     },
     "execution_count": 1,
     "metadata": {},
     "output_type": "execute_result"
    }
   ],
   "source": [
    "from Movie_recommendation_labb import MovieRecommender\n",
    "\n",
    "recommender = MovieRecommender(\n",
    "    ratings_path=r\"C:\\Code\\ml-latest\\ratings.csv\",\n",
    "    tags_path=r\"C:\\Code\\ml-latest\\tags.csv\",\n",
    "    movies_path=r\"C:\\Code\\ml-latest\\movies.csv\"\n",
    ")\n",
    "\n",
    "recommender.load_and_process_data()\n",
    "\n",
    "recommender.get_recommendations(\"Toy Story (1995)\")\n"
   ]
  }
 ],
 "metadata": {
  "kernelspec": {
   "display_name": ".venv",
   "language": "python",
   "name": "python3"
  },
  "language_info": {
   "codemirror_mode": {
    "name": "ipython",
    "version": 3
   },
   "file_extension": ".py",
   "mimetype": "text/x-python",
   "name": "python",
   "nbconvert_exporter": "python",
   "pygments_lexer": "ipython3",
   "version": "3.12.5"
  }
 },
 "nbformat": 4,
 "nbformat_minor": 5
}
